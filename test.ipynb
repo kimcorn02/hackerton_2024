{
 "cells": [
  {
   "cell_type": "markdown",
   "metadata": {},
   "source": [
    "### Existing docs"
   ]
  },
  {
   "cell_type": "code",
   "execution_count": 1,
   "metadata": {},
   "outputs": [],
   "source": [
    "from docx import Document\n",
    "\n",
    "doc_path = 'work_01.docx'\n",
    "doc = Document(doc_path)\n",
    "table = doc.tables[0]"
   ]
  },
  {
   "cell_type": "code",
   "execution_count": 2,
   "metadata": {},
   "outputs": [
    {
     "data": {
      "text/plain": [
       "(25, 7)"
      ]
     },
     "execution_count": 2,
     "metadata": {},
     "output_type": "execute_result"
    }
   ],
   "source": [
    "len(table.rows), len(table.rows[7].cells)"
   ]
  },
  {
   "cell_type": "code",
   "execution_count": 3,
   "metadata": {},
   "outputs": [
    {
     "data": {
      "text/plain": [
       "<docx.shape.InlineShape at 0x7f2efcb20e80>"
      ]
     },
     "execution_count": 3,
     "metadata": {},
     "output_type": "execute_result"
    }
   ],
   "source": [
    "# add image\n",
    "img_1 = table.rows[0].cells[0]\n",
    "img_2 = table.rows[1].cells[0]\n",
    "img_3 = table.rows[2].cells[0]\n",
    "img_4 = table.rows[3].cells[0]\n",
    "\n",
    "merged_cell = img_1.merge(img_2).merge(img_3).merge(img_4)\n",
    "\n",
    "for paragraph in merged_cell.paragraphs:\n",
    "    paragraph.clear()\n",
    "\n",
    "from docx.shared import Inches\n",
    "\n",
    "run = merged_cell.add_paragraph().add_run()\n",
    "run.add_picture('picture.jpg', width=Inches(1))"
   ]
  },
  {
   "cell_type": "code",
   "execution_count": 4,
   "metadata": {},
   "outputs": [],
   "source": [
    "# add name\n",
    "from docx.enum.text import WD_PARAGRAPH_ALIGNMENT\n",
    "\n",
    "def add_txt(row, col, data):\n",
    "    print('original',table.rows[row].cells[col].text)\n",
    "    table.rows[row].cells[col].text = data\n",
    "    table.rows[row].cells[col].paragraphs[0].alignment = WD_PARAGRAPH_ALIGNMENT.CENTER"
   ]
  },
  {
   "cell_type": "code",
   "execution_count": 7,
   "metadata": {},
   "outputs": [
    {
     "name": "stdout",
     "output_type": "stream",
     "text": [
      "\n",
      "테이블 1 내용:\n",
      "25\n",
      "['\\n', '이   력   서', '이   력   서', '이   력   서', '이   력   서', '이   력   서', '이   력   서']\n",
      "['\\n', '한    글', '한    글', '김머머', '김머머', '연 락 처', '연 락 처']\n",
      "['\\n', '영    문', '영    문', 'Kim', 'Kim', '010-1111-1111', '010-1111-1111']\n",
      "['\\n', '이 메 일', '이 메 일', 'mmmm@mmm.com', 'mmmm@mmm.com', 'mmmm@mmm.com', 'mmmm@mmm.com']\n",
      "['현 주 소', '서울시 머머구 머머동 머머아파트', '서울시 머머구 머머동 머머아파트', '서울시 머머구 머머동 머머아파트', '서울시 머머구 머머동 머머아파트', '서울시 머머구 머머동 머머아파트', '서울시 머머구 머머동 머머아파트']\n",
      "['학 력 사 항', '학 력 사 항', '학 력 사 항', '학 력 사 항', '학 력 사 항', '학 력 사 항', '학 력 사 항']\n",
      "['재학기간', '재학기간', '학 교 명', '학 교 명', '전   공', '전   공', '비   고']\n",
      "['a', 'a', 'ddd school', 'ddd school', '', '', '']\n",
      "['', '', '', '', '', '', '']\n",
      "['', '', '', '', '', '', '']\n",
      "['실무 경력사항', '실무 경력사항', '실무 경력사항', '실무 경력사항', '실무 경력사항', '실무 경력사항', '실무 경력사항']\n",
      "['근무기간', '근무기간', '근 무 처', '근 무 처', '직 위', '직 위', '퇴직사유']\n",
      "['2026-2017', '2026-2017', 'workplace', 'workplace', 'cooking', 'cooking', 'move to kor']\n",
      "['', '', '', '', '', '', '']\n",
      "['', '', '', '', '', '', '']\n",
      "['', '', '', '', '', '', '']\n",
      "['', '', '', '', '', '', '']\n",
      "['기타 경력사항', '기타 경력사항', '기타 경력사항', '기타 경력사항', '기타 경력사항', '기타 경력사항', '기타 경력사항']\n",
      "['근무기간', '근무기간', '근 무 처', '근 무 처', '직 위', '직 위', '퇴직사유']\n",
      "['', '', '', '', '', '', '']\n",
      "['', '', '', '', '', '', '']\n",
      "['', '', '', '', '', '', '']\n",
      "['', '', '', '', '', '', '']\n",
      "['참 고 사 항', '', '', '', '', '', '']\n",
      "['위 기재 사항은 사실과 틀림이 없습니다.\\n\\n2024년   10월   26일\\n\\n지원자 :   김머머   (인)', '위 기재 사항은 사실과 틀림이 없습니다.\\n\\n2024년   10월   26일\\n\\n지원자 :   김머머   (인)', '위 기재 사항은 사실과 틀림이 없습니다.\\n\\n2024년   10월   26일\\n\\n지원자 :   김머머   (인)', '위 기재 사항은 사실과 틀림이 없습니다.\\n\\n2024년   10월   26일\\n\\n지원자 :   김머머   (인)', '위 기재 사항은 사실과 틀림이 없습니다.\\n\\n2024년   10월   26일\\n\\n지원자 :   김머머   (인)', '위 기재 사항은 사실과 틀림이 없습니다.\\n\\n2024년   10월   26일\\n\\n지원자 :   김머머   (인)', '위 기재 사항은 사실과 틀림이 없습니다.\\n\\n2024년   10월   26일\\n\\n지원자 :   김머머   (인)']\n"
     ]
    }
   ],
   "source": [
    "for i, table in enumerate(doc.tables):\n",
    "    print(f\"\\n테이블 {i + 1} 내용:\")\n",
    "    print(len(table.rows))\n",
    "    for row in table.rows:\n",
    "        row_data = [cell.text for cell in row.cells]\n",
    "        print(row_data)"
   ]
  },
  {
   "cell_type": "code",
   "execution_count": 5,
   "metadata": {},
   "outputs": [
    {
     "name": "stdout",
     "output_type": "stream",
     "text": [
      "original \n",
      "original \n",
      "original \n",
      "original \n",
      "original \n",
      "original \n",
      "original \n",
      "original \n",
      "original \n",
      "original \n",
      "original \n",
      "original   위 기재 사항은 사실과 틀림이 없습니다.\n",
      "\n",
      "년   월   일\n",
      "\n",
      "지원자 :             (인)\n"
     ]
    }
   ],
   "source": [
    "from datetime import datetime\n",
    "\n",
    "name = '김머머'\n",
    "add_txt(1,3,name)\n",
    "add_txt(2,3,'Kim')\n",
    "add_txt(2,5,'010-1111-1111')\n",
    "add_txt(3,3,'mmmm@mmm.com')\n",
    "add_txt(4,1,'서울시 머머구 머머동 머머아파트')\n",
    "add_txt(7,1,'a')\n",
    "add_txt(7,3,'ddd school')\n",
    "add_txt(12,0,'2026-2017')\n",
    "add_txt(12,2,'workplace')\n",
    "add_txt(12,4,'cooking')\n",
    "add_txt(12,6,'move to kor')\n",
    "\n",
    "now = datetime.now()\n",
    "add_txt(24,0,f'위 기재 사항은 사실과 틀림이 없습니다.\\n\\n{now.strftime(\"%Y년   %m월   %d일\")}\\n\\n지원자 :   {name}   (인)')"
   ]
  },
  {
   "cell_type": "code",
   "execution_count": 6,
   "metadata": {},
   "outputs": [],
   "source": [
    "new_doc_path = 'new_work_01.docx'\n",
    "doc.save(new_doc_path)"
   ]
  },
  {
   "cell_type": "markdown",
   "metadata": {},
   "source": [
    "### tester"
   ]
  },
  {
   "cell_type": "code",
   "execution_count": null,
   "metadata": {},
   "outputs": [],
   "source": [
    "img_1 = table.rows[0].cells[0]\n",
    "img_2 = table.rows[1].cells[0]\n",
    "img_3 = table.rows[2].cells[0]\n",
    "img_4 = table.rows[3].cells[0]\n",
    "\n",
    "merged_cell = img_1.merge(img_2).merge(img_3).merge(img_4)\n",
    "\n",
    "for paragraph in merged_cell.paragraphs:\n",
    "    paragraph.clear()\n",
    "\n",
    "from docx.shared import Inches\n",
    "\n",
    "run = merged_cell.add_paragraph().add_run()\n",
    "run.add_picture('picture.jpg', width=Inches(1))"
   ]
  },
  {
   "cell_type": "code",
   "execution_count": 4,
   "metadata": {},
   "outputs": [],
   "source": [
    "cnt_row = table.rows[6]\n",
    "new_row = table.add_row()\n",
    "cell_1 = new_row.cells[0].merge(new_row.cells[1])\n",
    "cell_1.text = '2021.01.01 - 2021.03.03'\n",
    "cell_2 = new_row.cells[2].merge(new_row.cells[3])\n",
    "cell_2.text = 'school'\n",
    "cell_3 = new_row.cells[4].merge(new_row.cells[5])\n",
    "cell_3.text = 'major'"
   ]
  },
  {
   "cell_type": "code",
   "execution_count": 5,
   "metadata": {},
   "outputs": [],
   "source": [
    "new_doc_path = 'new_work_01.docx'\n",
    "doc.save(new_doc_path)"
   ]
  },
  {
   "cell_type": "code",
   "execution_count": null,
   "metadata": {},
   "outputs": [],
   "source": [
    "for i, table in enumerate(doc.tables):\n",
    "    print(f\"\\n테이블 {i + 1} 내용:\")\n",
    "    print(len(table.rows))\n",
    "    for row in table.rows:\n",
    "        row_data = [cell.text for cell in row.cells]\n",
    "        print(row_data)"
   ]
  },
  {
   "cell_type": "code",
   "execution_count": null,
   "metadata": {},
   "outputs": [],
   "source": [
    "for row in table.rows:\n",
    "        row_data = [cell.text for cell in row.cells]  # 각 행의 셀에서 텍스트 추출\n",
    "        print(row_data)"
   ]
  },
  {
   "cell_type": "code",
   "execution_count": 2,
   "metadata": {},
   "outputs": [],
   "source": [
    "from docx.enum.text import WD_PARAGRAPH_ALIGNMENT\n",
    "r_num = 1\n",
    "c_num = 3\n",
    "name = '김ahah'\n",
    "\n",
    "table.rows[r_num].cells[c_num].text = name\n",
    "\n",
    "table.rows[r_num].cells[c_num].paragraphs[0].alignment = WD_PARAGRAPH_ALIGNMENT.CENTER"
   ]
  },
  {
   "cell_type": "markdown",
   "metadata": {},
   "source": [
    "### New Docs"
   ]
  },
  {
   "cell_type": "code",
   "execution_count": null,
   "metadata": {},
   "outputs": [],
   "source": [
    "from docx.enum.style import WD_STYLE_TYPE\n",
    "\n",
    "styles = doc.styles\n",
    "table_styles = [s for s in styles if s.type == WD_STYLE_TYPE.TABLE]\n",
    "\n",
    "for style in table_styles:\n",
    "    print(\"Table :\", style.name)"
   ]
  },
  {
   "cell_type": "code",
   "execution_count": null,
   "metadata": {},
   "outputs": [],
   "source": [
    "from docx import Document\n",
    "\n",
    "doc = Document()\n",
    "doc.add_table(rows=25, cols=7)\n",
    "table.style = 'Colorful Grid'\n",
    "doc.save('new_resume.docx')"
   ]
  }
 ],
 "metadata": {
  "kernelspec": {
   "display_name": "hack",
   "language": "python",
   "name": "python3"
  },
  "language_info": {
   "codemirror_mode": {
    "name": "ipython",
    "version": 3
   },
   "file_extension": ".py",
   "mimetype": "text/x-python",
   "name": "python",
   "nbconvert_exporter": "python",
   "pygments_lexer": "ipython3",
   "version": "3.8.20"
  }
 },
 "nbformat": 4,
 "nbformat_minor": 2
}
